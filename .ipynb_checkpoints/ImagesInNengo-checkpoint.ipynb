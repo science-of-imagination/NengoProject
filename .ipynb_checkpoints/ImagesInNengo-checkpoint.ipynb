{
 "metadata": {
  "name": "",
  "signature": "sha256:1087fcac7c656bd7bed5aedc703e3ccf5de23c602af97bde2589a505110d0290"
 },
 "nbformat": 3,
 "nbformat_minor": 0,
 "worksheets": [
  {
   "cells": [
    {
     "cell_type": "heading",
     "level": 1,
     "metadata": {},
     "source": [
      "Recording Images In a Nengo Network"
     ]
    },
    {
     "cell_type": "markdown",
     "metadata": {},
     "source": [
      "We want to build a simple memory network that will take a compressed vector representation of an image and populate a 'visual buffer' with a given image. But how should we represent the image? Normally, an image is an m x n array of pixels with aspect ratio m : n. We can't store m x n pixels for k images, too many and wasteful. Want to compress. Idea: use SVD on images. Problem: digital grayscale images are functions Img : {1,...,m}x{1,...,n} -> {1,...,255}. We cannot SVD an array of two-dimensional vectors (matrices), so we flatten them and SVD the resulting array of 1 x mn vectors.\n",
      "\n",
      "What does SVD get us? It gets us an orthogonal basis with which to express each image in the image set. For Imgs = [img_1,...,img_k], where img_i are column vectors representing each image, SVD gives us\n",
      "\n",
      "Imgs = U Sigma V\n",
      "\n",
      "Where U Sigma = [sigma_1 u_1,...,sigma_l u_l] are orthogonal basis vectors and V = [v_1,...,v_k] are vector representations of [img_1,...,img_k] under the basis U. The great thing this lets us do is truncate U (and hence V) to get some lossy compression, so the network can represent Imgs. There is a normalization issue, but I will get to that.\n",
      "\n"
     ]
    },
    {
     "cell_type": "code",
     "collapsed": false,
     "input": [
      "import cPickle, gzip, numpy\n",
      "\n",
      "# Load the dataset\n",
      "f = gzip.open('Pictures/mnist.pkl.gz', 'rb')\n",
      "train_set, valid_set, test_set = cPickle.load(f)\n",
      "f.close()\n",
      "\n",
      "import os\n",
      "import numpy\n",
      "import matplotlib.pyplot as plt\n",
      "try:\n",
      "    from PIL import Image\n",
      "except ImportError:\n",
      "    import Image\n",
      "\n",
      "import scipy.sparse\n",
      "from sparsesvd import sparsesvd\n",
      "\n",
      "combined = []\n",
      "size = 28\n",
      "\n",
      "combined = numpy.array(train_set[0]).T\n",
      "combined_csc = scipy.sparse.csc_matrix(combined)\n",
      "ut, s, vt = sparsesvd(combined_csc,50)  \n",
      "\n",
      "recovered = numpy.dot(ut.T, numpy.dot(numpy.diag(s),vt[:,4]))\n",
      "\n",
      "imgMatReshaped = numpy.reshape(recovered, (size, size), 'F')        \n",
      "plt.imshow(imgMatReshaped.T, cmap='gray')\n",
      "plt.show()    "
     ],
     "language": "python",
     "metadata": {},
     "outputs": [],
     "prompt_number": 1
    },
    {
     "cell_type": "markdown",
     "metadata": {},
     "source": [
      "<img src=\"Figures/SVD9-50svs.svg\">"
     ]
    },
    {
     "cell_type": "markdown",
     "metadata": {},
     "source": [
      "Above is the result for SVD with 50 basis vectors. Looks passable. Now need to figure out how to do (stable) memory in nengo for images represented by 50 basis vectors."
     ]
    },
    {
     "cell_type": "code",
     "collapsed": false,
     "input": [],
     "language": "python",
     "metadata": {},
     "outputs": []
    }
   ],
   "metadata": {}
  }
 ]
}