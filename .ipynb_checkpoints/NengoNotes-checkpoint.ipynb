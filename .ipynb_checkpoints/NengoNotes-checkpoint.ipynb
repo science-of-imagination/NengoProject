{
 "metadata": {
  "name": "",
  "signature": "sha256:851473a61993b8ee8acbd8fcb44d382732a92650b9083223e98a615e769d092b"
 },
 "nbformat": 3,
 "nbformat_minor": 0,
 "worksheets": []
}