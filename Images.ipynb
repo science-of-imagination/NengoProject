{
 "metadata": {
  "name": "",
  "signature": "sha256:df08e65dedb42b0902d522f87133995878804cc1411d6f067b1c3b999e0ca38f"
 },
 "nbformat": 3,
 "nbformat_minor": 0,
 "worksheets": [
  {
   "cells": [
    {
     "cell_type": "heading",
     "level": 1,
     "metadata": {},
     "source": [
      "Notes on the Images"
     ]
    },
    {
     "cell_type": "heading",
     "level": 2,
     "metadata": {},
     "source": [
      "SVD one image and then reload it\n"
     ]
    },
    {
     "cell_type": "markdown",
     "metadata": {},
     "source": [
      "Load the image into a matrix\n"
     ]
    },
    {
     "cell_type": "code",
     "collapsed": false,
     "input": [
      "import numpy\n",
      "import matplotlib.pyplot as plt\n",
      "import scipy\n",
      "import Image\n",
      "#from scipy import misc\n",
      "#from PIL import Image\n",
      "\n",
      "img = Image.open('Pictures/circle.png')\n",
      "img = img.convert('LA')\n",
      "imgArray = numpy.array(list(img.getdata(band=0)),float)\n",
      "imgArray.shape = (img.size[1],img.size[0])\n",
      "\n",
      "imgmat = numpy.matrix(imgArray)\n",
      "\n",
      "plt.imshow(imgmat, cmap='gray')\n",
      "plt.show()"
     ],
     "language": "python",
     "metadata": {},
     "outputs": [],
     "prompt_number": 1
    },
    {
     "cell_type": "markdown",
     "metadata": {},
     "source": [
      "Now we can SVD it and load it again"
     ]
    },
    {
     "cell_type": "code",
     "collapsed": false,
     "input": [
      "U, sigma, V = numpy.linalg.svd(imgmat)\n",
      "\n",
      "s = numpy.zeros(U.shape,dtype=float)\n",
      "s[:len(sigma),:len(sigma)] = numpy.diag(sigma)\n",
      "X = numpy.dot(U,numpy.dot(s,V))\n",
      "\n",
      "plt.imshow(X,cmap='gray')\n",
      "plt.show()"
     ],
     "language": "python",
     "metadata": {},
     "outputs": []
    },
    {
     "cell_type": "heading",
     "level": 2,
     "metadata": {},
     "source": [
      "SVD two images and recover them"
     ]
    },
    {
     "cell_type": "markdown",
     "metadata": {},
     "source": [
      "Here we make matrices out of 2 images\n"
     ]
    },
    {
     "cell_type": "code",
     "collapsed": false,
     "input": [
      "import numpy\n",
      "import matplotlib.pyplot as plt\n",
      "try:\n",
      "    from PIL import Image\n",
      "except ImportError:\n",
      "    import Image\n",
      "\n",
      "\n",
      "#size determines standardized size of images used, SVD needs image dimensions to match.\n",
      "#Also, we ran into MemoryError when size > 80 (images are size x size), need to find fix.\n",
      "size = 100\n",
      "\n",
      "#Initialize images\n",
      "imgSquare = Image.open('Pictures/square.png')\n",
      "imgCircle = Image.open('Pictures/circle.png')\n",
      "\n",
      "#Resize images\n",
      "imgSquare = imgSquare.convert('LA').resize((size,size), Image.NEAREST)\n",
      "imgCircle = imgCircle.convert('LA').resize((size,size), Image.NEAREST)\n",
      "\n",
      "#Matrixify images\n",
      "imgSquareArray = numpy.array(list(imgSquare.getdata(band=0)),float)\n",
      "imgSquareArray.shape = (imgSquare.size[1],imgSquare.size[0])\n",
      "imgSquareMat = numpy.matrix(imgSquareArray)\n",
      "\n",
      "imgCircleArray = numpy.array(list(imgCircle.getdata(band=0)),float)\n",
      "imgCircleArray.shape = (imgCircle.size[1],imgCircle.size[0])\n",
      "imgCircleMat = numpy.matrix(imgCircleArray)"
     ],
     "language": "python",
     "metadata": {},
     "outputs": [],
     "prompt_number": 1
    },
    {
     "cell_type": "markdown",
     "metadata": {},
     "source": [
      "One way to do SVD on images is to flatten the images and run SVD as usual."
     ]
    },
    {
     "cell_type": "code",
     "collapsed": false,
     "input": [
      "#Flatten images\n",
      "#Images are now m = size x size sized vectors\n",
      "flattenedSquare = numpy.array(imgSquareMat.flatten('F'))[0]\n",
      "flattenedCircle = numpy.array(imgCircleMat.flatten('F'))[0]\n",
      "\n",
      "#Combine image vectors into a matrix\n",
      "#We take the transpose, so the matrix is m x n\n",
      "#Here n is the number of images. In this case n = 2\n",
      "combined = numpy.array([flattenedSquare, flattenedCircle]).T\n",
      "\n",
      "#SVD images\n",
      "#Expect U: m x m; sigma: n x 1; V: n x n\n",
      "#Actually sigma should be m x n, but numpy.linalg.svd returns it as n x 1\n",
      "#This is because sigma is a diagonalized matrix and\n",
      "#because combined will have at most n singular values.\n",
      "U, sigma, V = numpy.linalg.svd(combined)\n"
     ],
     "language": "python",
     "metadata": {},
     "outputs": [],
     "prompt_number": 2
    },
    {
     "cell_type": "markdown",
     "metadata": {},
     "source": [
      "Now we can recover the images from their SVD, but we have to unflatten them."
     ]
    },
    {
     "cell_type": "code",
     "collapsed": false,
     "input": [
      "\n",
      "\n",
      "#Recover combined from SVD\n",
      "#s is sigma embedded in an m x n matrix.\n",
      "s = numpy.zeros((U.shape[0],2),dtype=float)\n",
      "s[:len(sigma),:len(sigma)] = numpy.diag(sigma)\n",
      "recovered = numpy.dot(U,numpy.dot(s,V[:,1]))\n",
      "\n",
      "print recovered.shape\n",
      "print recovered\n",
      "print V\n",
      "\n",
      "#Reconvert flattened images\n",
      "imgSquareMatReshaped = numpy.reshape(recovered, (size, size), 'F')\n",
      "#imgCircleMatReshaped = numpy.reshape(recovered[:,1], (size, size), 'F')\n",
      "#instead of using this method, use dot(s,V[:,1]) or dot(s,V[:,0])\n",
      "\n",
      "#plt.imshow(imgCirceMatReshaped, cmap='gray')\n",
      "plt.imshow(imgSquareMatReshaped, cmap='gray')\n",
      "plt.show()"
     ],
     "language": "python",
     "metadata": {},
     "outputs": [
      {
       "output_type": "stream",
       "stream": "stdout",
       "text": [
        "(10000L,)\n",
        "[ 255.  255.  255. ...,  255.  255.  255.]\n",
        "[[-0.71388164 -0.70026638]\n",
        " [ 0.70026638 -0.71388164]]\n"
       ]
      }
     ],
     "prompt_number": 6
    },
    {
     "cell_type": "markdown",
     "metadata": {},
     "source": [
      "Can we SVD images without flattening them? "
     ]
    },
    {
     "cell_type": "code",
     "collapsed": false,
     "input": [
      "combined = numpy.array([imgSquareMat, imgCircleMat])\n",
      "U, sigma, V = numpy.linalg.svd(combined)\n",
      "\n",
      "print U.shape\n",
      "print sigma.shape\n",
      "print V.shape"
     ],
     "language": "python",
     "metadata": {},
     "outputs": []
    },
    {
     "cell_type": "markdown",
     "metadata": {},
     "source": [
      "We don't know how to do tensor product, come back to this later."
     ]
    },
    {
     "cell_type": "code",
     "collapsed": false,
     "input": [
      "s = numpy.zeros(U.shape,dtype=float)\n",
      "s[:len(sigma),:len(sigma),:len(sigma)] = numpy.diag(sigma)\n",
      "\n",
      "print s.shape\n",
      "print V.shape\n",
      "step = numpy.tensordot(s, V, axes=[2,1])\n",
      "print step.shape\n",
      "X = numpy.tensordot(U,numpy.tensordot(s,V))\n",
      "\n",
      "plt.imshow(X,cmap='gray')\n",
      "plt.show()"
     ],
     "language": "python",
     "metadata": {},
     "outputs": [
      {
       "output_type": "stream",
       "stream": "stdout",
       "text": [
        "(2, 200, 200)\n",
        "(2, 200, 200)\n",
        "(2, 200, 2, 200)\n"
       ]
      },
      {
       "ename": "ValueError",
       "evalue": "shape-mismatch for sum",
       "output_type": "pyerr",
       "traceback": [
        "\u001b[1;31m---------------------------------------------------------------------------\u001b[0m\n\u001b[1;31mValueError\u001b[0m                                Traceback (most recent call last)",
        "\u001b[1;32m<ipython-input-29-95812c76882b>\u001b[0m in \u001b[0;36m<module>\u001b[1;34m()\u001b[0m\n\u001b[0;32m      6\u001b[0m \u001b[0mstep\u001b[0m \u001b[1;33m=\u001b[0m \u001b[0mnumpy\u001b[0m\u001b[1;33m.\u001b[0m\u001b[0mtensordot\u001b[0m\u001b[1;33m(\u001b[0m\u001b[0ms\u001b[0m\u001b[1;33m,\u001b[0m \u001b[0mV\u001b[0m\u001b[1;33m,\u001b[0m \u001b[0maxes\u001b[0m\u001b[1;33m=\u001b[0m\u001b[1;33m[\u001b[0m\u001b[1;36m2\u001b[0m\u001b[1;33m,\u001b[0m\u001b[1;36m1\u001b[0m\u001b[1;33m]\u001b[0m\u001b[1;33m)\u001b[0m\u001b[1;33m\u001b[0m\u001b[0m\n\u001b[0;32m      7\u001b[0m \u001b[1;32mprint\u001b[0m \u001b[0mstep\u001b[0m\u001b[1;33m.\u001b[0m\u001b[0mshape\u001b[0m\u001b[1;33m\u001b[0m\u001b[0m\n\u001b[1;32m----> 8\u001b[1;33m \u001b[0mX\u001b[0m \u001b[1;33m=\u001b[0m \u001b[0mnumpy\u001b[0m\u001b[1;33m.\u001b[0m\u001b[0mtensordot\u001b[0m\u001b[1;33m(\u001b[0m\u001b[0mU\u001b[0m\u001b[1;33m,\u001b[0m\u001b[0mnumpy\u001b[0m\u001b[1;33m.\u001b[0m\u001b[0mtensordot\u001b[0m\u001b[1;33m(\u001b[0m\u001b[0ms\u001b[0m\u001b[1;33m,\u001b[0m\u001b[0mV\u001b[0m\u001b[1;33m)\u001b[0m\u001b[1;33m)\u001b[0m\u001b[1;33m\u001b[0m\u001b[0m\n\u001b[0m\u001b[0;32m      9\u001b[0m \u001b[1;33m\u001b[0m\u001b[0m\n\u001b[0;32m     10\u001b[0m \u001b[0mplt\u001b[0m\u001b[1;33m.\u001b[0m\u001b[0mimshow\u001b[0m\u001b[1;33m(\u001b[0m\u001b[0mX\u001b[0m\u001b[1;33m,\u001b[0m\u001b[0mcmap\u001b[0m\u001b[1;33m=\u001b[0m\u001b[1;34m'gray'\u001b[0m\u001b[1;33m)\u001b[0m\u001b[1;33m\u001b[0m\u001b[0m\n",
        "\u001b[1;32mC:\\Python27\\lib\\site-packages\\numpy\\core\\numeric.pyc\u001b[0m in \u001b[0;36mtensordot\u001b[1;34m(a, b, axes)\u001b[0m\n\u001b[0;32m   1204\u001b[0m                 \u001b[0maxes_b\u001b[0m\u001b[1;33m[\u001b[0m\u001b[0mk\u001b[0m\u001b[1;33m]\u001b[0m \u001b[1;33m+=\u001b[0m \u001b[0mndb\u001b[0m\u001b[1;33m\u001b[0m\u001b[0m\n\u001b[0;32m   1205\u001b[0m     \u001b[1;32mif\u001b[0m \u001b[1;32mnot\u001b[0m \u001b[0mequal\u001b[0m\u001b[1;33m:\u001b[0m\u001b[1;33m\u001b[0m\u001b[0m\n\u001b[1;32m-> 1206\u001b[1;33m         \u001b[1;32mraise\u001b[0m \u001b[0mValueError\u001b[0m\u001b[1;33m(\u001b[0m\u001b[1;34m\"shape-mismatch for sum\"\u001b[0m\u001b[1;33m)\u001b[0m\u001b[1;33m\u001b[0m\u001b[0m\n\u001b[0m\u001b[0;32m   1207\u001b[0m \u001b[1;33m\u001b[0m\u001b[0m\n\u001b[0;32m   1208\u001b[0m     \u001b[1;31m# Move the axes to sum over to the end of \"a\"\u001b[0m\u001b[1;33m\u001b[0m\u001b[1;33m\u001b[0m\u001b[0m\n",
        "\u001b[1;31mValueError\u001b[0m: shape-mismatch for sum"
       ]
      }
     ],
     "prompt_number": 29
    },
    {
     "cell_type": "heading",
     "level": 1,
     "metadata": {},
     "source": [
      "Going to try with sparsesvd\n"
     ]
    },
    {
     "cell_type": "code",
     "collapsed": false,
     "input": [
      "import numpy, scipy.sparse\n",
      "from sparsesvd import sparsesvd\n",
      "mat = numpy.random.rand(200, 100) # create a random matrix\n",
      "smat = scipy.sparse.csc_matrix(mat) # convert to sparse CSC format\n",
      "ut, s, vt = sparsesvd(smat, 100) # do SVD, asking for 100 factors\n",
      "print(numpy.allclose(mat, numpy.dot(ut.T, numpy.dot(numpy.diag(s), vt))))"
     ],
     "language": "python",
     "metadata": {},
     "outputs": [
      {
       "output_type": "stream",
       "stream": "stdout",
       "text": [
        "True\n"
       ]
      }
     ],
     "prompt_number": 13
    },
    {
     "cell_type": "markdown",
     "metadata": {},
     "source": [
      "Sparse works. Going to rebuild the whole thing."
     ]
    },
    {
     "cell_type": "code",
     "collapsed": false,
     "input": [
      "import numpy\n",
      "import matplotlib.pyplot as plt\n",
      "try:\n",
      "    from PIL import Image\n",
      "except ImportError:\n",
      "    import Image\n",
      "\n",
      "import scipy.sparse\n",
      "from sparsesvd import sparsesvd\n",
      "#size determines standardized size of images used, SVD needs image dimensions to match.\n",
      "#Also, we ran into MemoryError when size > 80 (images are size x size), need to find fix.\n",
      "size = 200\n",
      "\n",
      "#Initialize images\n",
      "imgSquare = Image.open('Pictures/square.png')\n",
      "imgCircle = Image.open('Pictures/circle.png')\n",
      "\n",
      "#Resize images\n",
      "imgSquare = imgSquare.convert('LA').resize((size,size), Image.NEAREST)\n",
      "imgCircle = imgCircle.convert('LA').resize((size,size), Image.NEAREST)\n",
      "\n",
      "#Matrixify images\n",
      "imgSquareArray = numpy.array(list(imgSquare.getdata(band=0)),float)\n",
      "imgSquareArray.shape = (imgSquare.size[1],imgSquare.size[0])\n",
      "imgSquareMat = numpy.matrix(imgSquareArray)\n",
      "\n",
      "imgCircleArray = numpy.array(list(imgCircle.getdata(band=0)),float)\n",
      "imgCircleArray.shape = (imgCircle.size[1],imgCircle.size[0])\n",
      "imgCircleMat = numpy.matrix(imgCircleArray)\n",
      "\n",
      "flattenedSquare = numpy.array(imgSquareMat.flatten('F'))[0]\n",
      "flattenedCircle = numpy.array(imgCircleMat.flatten('F'))[0]\n",
      "\n",
      "#Combine image vectors into a matrix\n",
      "#We take the transpose, so the matrix is m x n\n",
      "#Here n is the number of images. In this case n = 2\n",
      "combined = numpy.array([flattenedSquare, flattenedCircle]).T\n",
      "\n",
      "print(combined.shape)\n",
      "combined_csc = scipy.sparse.csc_matrix(combined)\n",
      "print(combined_csc.shape)\n",
      "\n",
      "\n"
     ],
     "language": "python",
     "metadata": {},
     "outputs": [
      {
       "output_type": "stream",
       "stream": "stdout",
       "text": [
        "(40000L, 2L)\n",
        "(40000, 2)\n"
       ]
      }
     ],
     "prompt_number": 22
    },
    {
     "cell_type": "markdown",
     "metadata": {},
     "source": [
      "At least they are the same shape. \n",
      "The dimensions of the picture can be much larger, and we can choose the # of factors"
     ]
    },
    {
     "cell_type": "code",
     "collapsed": false,
     "input": [
      "ut, s, vt = sparsesvd(combined_csc, 2) # do SVD, asking for 2 factors\n",
      "print ut.shape, s.shape, vt.shape\n",
      "print(numpy.allclose(combined, numpy.dot(ut.T, numpy.dot(numpy.diag(s), vt))))"
     ],
     "language": "python",
     "metadata": {},
     "outputs": [
      {
       "output_type": "stream",
       "stream": "stdout",
       "text": [
        "(2L, 40000L) (2L,) (2L, 2L)\n",
        "True\n"
       ]
      }
     ],
     "prompt_number": 23
    },
    {
     "cell_type": "markdown",
     "metadata": {},
     "source": [
      "Good!"
     ]
    },
    {
     "cell_type": "code",
     "collapsed": false,
     "input": [
      "recovered = numpy.dot(ut.T, numpy.dot(numpy.diag(s),vt[:,1]))\n",
      "print(recovered.shape)\n",
      "imgSquareMatReshaped = numpy.reshape(recovered, (size, size), 'F')\n",
      "#imgCircleMatReshaped = numpy.reshape(recovered[:,1], (size, size), 'F')\n",
      "#instead of using this method, use dot(s,V[:,1]) or dot(s,V[:,0])\n",
      "\n",
      "#plt.imshow(imgCirceMatReshaped, cmap='gray')\n",
      "plt.imshow(imgSquareMatReshaped, cmap='gray')\n",
      "plt.show()\n"
     ],
     "language": "python",
     "metadata": {},
     "outputs": [
      {
       "output_type": "stream",
       "stream": "stdout",
       "text": [
        "(40000L,)\n"
       ]
      }
     ],
     "prompt_number": 14
    },
    {
     "cell_type": "heading",
     "level": 1,
     "metadata": {},
     "source": [
      "All the Files in a directory"
     ]
    },
    {
     "cell_type": "code",
     "collapsed": false,
     "input": [
      "import os\n",
      "import numpy\n",
      "import matplotlib.pyplot as plt\n",
      "try:\n",
      "    from PIL import Image\n",
      "except ImportError:\n",
      "    import Image\n",
      "\n",
      "import scipy.sparse\n",
      "from sparsesvd import sparsesvd\n",
      "\n",
      "combined = []\n",
      "size = 512\n",
      "\n",
      "for f in os.listdir('Pictures/'):\n",
      "    if f.endswith('.png'):\n",
      "        img = Image.open(os.path.join('Pictures', f))\n",
      "        \n",
      "       # print(f)\n",
      "        img = img.convert('LA').resize((size,size), Image.NEAREST)\n",
      "        \n",
      "        imgArray = numpy.array(list(img.getdata(band=0)),float)\n",
      "        img.close()\n",
      "        imgArray.shape = (img.size[1],img.size[0])\n",
      "        imgMat = numpy.matrix(imgArray)\n",
      "        \n",
      "        flattened = numpy.array(imgMat.flatten('F'))[0]\n",
      "        combined.append(flattened)\n",
      "\n",
      "print combined[0] == combined[1]        \n",
      "combined = numpy.array(combined).T        \n",
      "combined_csc = scipy.sparse.csc_matrix(combined)\n",
      "#print(combined.shape,combined_csc.shape)\n",
      "ut, s, vt = sparsesvd(combined_csc,22)      \n",
      "#U, sigma, V = numpy.linalg.svd(combined)\n",
      "#print(U.shape)\n",
      "#print(combined.shape,combined_csc.shape,ut.shape,s.shape,vt.shape)       \n",
      "#s = numpy.zeros((U.shape[0],8),dtype=float)\n",
      "#s[:len(sigma),:len(sigma)] = numpy.diag(sigma)\n",
      "#recovered = numpy.dot(U,numpy.dot(s,V[:,7]))\n",
      "\n",
      "recovered = numpy.dot(ut.T, numpy.dot(numpy.diag(s),vt[:,4]))\n",
      "#recovered = numpy.dot(ut.T, numpy.dot(numpy.diag(s),vt[:,0])) + recovered\n",
      "\n",
      "#print(recovered.shape)\n",
      "\n",
      "imgMatReshaped = numpy.reshape(recovered, (size, size), 'F')        \n",
      "plt.imshow(imgMatReshaped, cmap='gray')\n",
      "plt.show()    \n",
      "    "
     ],
     "language": "python",
     "metadata": {},
     "outputs": [
      {
       "output_type": "stream",
       "stream": "stdout",
       "text": [
        "[ True  True  True ...,  True  True  True]\n"
       ]
      }
     ],
     "prompt_number": 10
    },
    {
     "cell_type": "heading",
     "level": 1,
     "metadata": {},
     "source": [
      "Try now with MNIST"
     ]
    },
    {
     "cell_type": "code",
     "collapsed": false,
     "input": [
      "import cPickle, gzip, numpy\n",
      "\n",
      "# Load the dataset\n",
      "f = gzip.open('Pictures/mnist.pkl.gz', 'rb')\n",
      "train_set, valid_set, test_set = cPickle.load(f)\n",
      "f.close()\n",
      "\n",
      "import os\n",
      "import numpy\n",
      "import matplotlib.pyplot as plt\n",
      "try:\n",
      "    from PIL import Image\n",
      "except ImportError:\n",
      "    import Image\n",
      "\n",
      "import scipy.sparse\n",
      "from sparsesvd import sparsesvd\n",
      "\n",
      "combined = []\n",
      "size = 28\n",
      "\n",
      "print(train_set[1][4])\n",
      "x = numpy.reshape(train_set[0][0],(28,28),'F')\n",
      "#plt.imshow(x.T,cmap='gray')\n",
      "#plt.show()\n",
      "combined = numpy.array(train_set[0]).T\n",
      "\n",
      "#print(combined.shape)\n",
      "#combined = numpy.array(train_set).T        \n",
      "combined_csc = scipy.sparse.csc_matrix(combined)\n",
      "#print(combined.shape,combined_csc.shape)\n",
      "ut, s, vt = sparsesvd(combined_csc,100)  \n",
      "print len(s)\n",
      "#plt.plot(s)\n",
      "#plt.show(s)\n",
      "#U, sigma, V = numpy.linalg.svd(combined)\n",
      "#print(U.shape)\n",
      "#print(combined.shape,combined_csc.shape,ut.shape,s.shape,vt.shape)       \n",
      "#s = numpy.zeros((U.shape[0],8),dtype=float)\n",
      "#s[:len(sigma),:len(sigma)] = numpy.diag(sigma)\n",
      "#recovered = numpy.dot(U,numpy.dot(s,V[:,7]))\n",
      "\n",
      "recovered = numpy.dot(ut.T, numpy.dot(numpy.diag(s),vt[:,4]))\n",
      "#recovered = numpy.dot(ut.T, numpy.dot(numpy.diag(s),vt[:,0])) + recovered\n",
      "\n",
      "print(recovered.shape)\n",
      "\n",
      "imgMatReshaped = numpy.reshape(recovered, (size, size), 'F')        \n",
      "plt.imshow(imgMatReshaped.T, cmap='gray')\n",
      "plt.show()    \n",
      "\n",
      "print(\"done\")"
     ],
     "language": "python",
     "metadata": {},
     "outputs": [
      {
       "output_type": "stream",
       "stream": "stdout",
       "text": [
        "9\n",
        "100"
       ]
      },
      {
       "output_type": "stream",
       "stream": "stdout",
       "text": [
        "\n",
        "(784L,)\n",
        "done"
       ]
      },
      {
       "output_type": "stream",
       "stream": "stdout",
       "text": [
        "\n"
       ]
      }
     ],
     "prompt_number": 2
    },
    {
     "cell_type": "heading",
     "level": 1,
     "metadata": {},
     "source": [
      "Shifting and scaling flattened images"
     ]
    },
    {
     "cell_type": "code",
     "collapsed": false,
     "input": [
      "import numpy\n",
      "import matplotlib.pyplot as plt\n",
      "try:\n",
      "    from PIL import Image\n",
      "except ImportError:\n",
      "    import Image\n",
      "\n",
      "size = 50\n",
      "\n",
      "#Initialize circle\n",
      "imgCircle = Image.open('Pictures/circle.png')\n",
      "\n",
      "#Resize circle\n",
      "imgCircle = imgCircle.convert('LA').resize((size,size), Image.NEAREST)\n",
      "\n",
      "imgCircleArray = numpy.array(list(imgCircle.getdata(band=0)),float)\n",
      "imgCircleArray.shape = (imgCircle.size[1],imgCircle.size[0])\n",
      "imgCircleMat = numpy.matrix(imgCircleArray)\n",
      "\n",
      "#Flatten circle\n",
      "flattenedCircle = numpy.array(imgCircleMat.flatten('F'))[0]\n",
      "\n",
      "plt.imshow(imgCircleMat, cmap='gray')\n",
      "plt.show()"
     ],
     "language": "python",
     "metadata": {},
     "outputs": [],
     "prompt_number": 70
    },
    {
     "cell_type": "code",
     "collapsed": false,
     "input": [
      "def shiftFlattened(flattened, size, xvalue, yvalue):\n",
      "    \"\"\"Shift flattened image pixels down by xvalue and horizontally by yvalue. Assumes image is square.\"\"\"\n",
      "    \n",
      "    #down shifter\n",
      "    flattened = 255*numpy.ones((size**2))-flattened\n",
      "    ds = numpy.zeros((size**2, size**2))\n",
      "    for j in range(size**2)[:-1]:\n",
      "        if(j+1) % size:\n",
      "            ds[j+1][j] = 1\n",
      "    #this might assume that xvalue is int\n",
      "    #rs = numpy.linalg.matrix_power(rs, xvalue)\n",
      "    #above is extremely memory intense\n",
      "    #below is definitely assuming xvalue is an int\n",
      "        \n",
      "    #x shifter\n",
      "    ls = numpy.zeros((size**2, size**2))\n",
      "    for i in range(size**2)[:-size]:\n",
      "        ls[i][i+size]=1\n",
      "    \n",
      "    if xvalue>0:\n",
      "        for i in range(xvalue):\n",
      "            flattened = numpy.dot(ds, flattened)\n",
      "    if xvalue<0:        \n",
      "        for i in range(xvalue):\n",
      "            flattened = numpy.dot(flattened, ds)\n",
      "    if yvalue>0:\n",
      "        for i in range(yvalue):\n",
      "            flattened = numpy.dot(ls, flattened)\n",
      "    if yvalue<0:\n",
      "        for i in range(yvalue):\n",
      "            flattened = numpy.dot(flattened, ls)\n",
      "\n",
      "    return 255*numpy.ones((size**2))-flattened\n",
      "\n",
      "shifted = shiftFlattened(flattenedCircle, size, 25, 25)\n",
      "shiftedReshaped = numpy.reshape(shifted, (size, size), 'F')\n",
      "\n",
      "plt.imshow(shiftedReshaped, cmap='gray')\n",
      "plt.show()"
     ],
     "language": "python",
     "metadata": {},
     "outputs": []
    },
    {
     "cell_type": "heading",
     "level": 1,
     "metadata": {},
     "source": [
      "From -1 to 1 (Nengo cannot represent 255)"
     ]
    },
    {
     "cell_type": "markdown",
     "metadata": {},
     "source": [
      "Because Nengo uses values from -1 to 1, we cannot represent images as they are (without /255.)<br>\n",
      "Hoping there is no real difference using /255.\n",
      "\n",
      "Start with just two images again\n",
      "In this case, we can take the flattened image and divide by 255.\n",
      "\n"
     ]
    },
    {
     "cell_type": "code",
     "collapsed": false,
     "input": [
      "import numpy\n",
      "import matplotlib.pyplot as plt\n",
      "try:\n",
      "    from PIL import Image\n",
      "except ImportError:\n",
      "    import Image\n",
      "\n",
      "import scipy.sparse\n",
      "#from sparsesvd import sparsesvd\n",
      "#size determines standardized size of images used, SVD needs image dimensions to match.\n",
      "#Also, we ran into MemoryError when size > 80 (images are size x size), need to find fix.\n",
      "size = 100\n",
      "\n",
      "#Initialize images\n",
      "imgSquare = Image.open('Pictures/square.png')\n",
      "imgCircle = Image.open('Pictures/circle.png')\n",
      "\n",
      "#Resize images\n",
      "imgSquare = imgSquare.convert('LA').resize((size,size), Image.NEAREST)\n",
      "imgCircle = imgCircle.convert('LA').resize((size,size), Image.NEAREST)\n",
      "\n",
      "#Matrixify images\n",
      "imgSquareArray = numpy.array(list(imgSquare.getdata(band=0)),float)\n",
      "imgSquareArray.shape = (imgSquare.size[1],imgSquare.size[0])\n",
      "imgSquareMat = numpy.matrix(imgSquareArray)\n",
      "\n",
      "imgCircleArray = numpy.array(list(imgCircle.getdata(band=0)),float)\n",
      "imgCircleArray.shape = (imgCircle.size[1],imgCircle.size[0])\n",
      "imgCircleMat = numpy.matrix(imgCircleArray)\n",
      "\n",
      "flattenedSquare = numpy.array(imgSquareMat.flatten('F'))[0]\n",
      "#divide by 255\n",
      "flattenedSquare = flattenedSquare/255.\n",
      "flattenedCircle = numpy.array(imgCircleMat.flatten('F'))[0]\n",
      "flattenedCircle = flattenedCircle/255.\n",
      "\n",
      "#Combine image vectors into a matrix\n",
      "#We take the transpose, so the matrix is m x n\n",
      "#Here n is the number of images. In this case n = 2\n",
      "combined = numpy.array([flattenedSquare, flattenedCircle]).T\n",
      "\n",
      "\n",
      "\n",
      "#SVD images\n",
      "#Expect U: m x m; sigma: n x 1; V: n x n\n",
      "#Actually sigma should be m x n, but numpy.linalg.svd returns it as n x 1\n",
      "#This is because sigma is a diagonalized matrix and\n",
      "#because combined will have at most n singular values.\n",
      "U, sigma, V = numpy.linalg.svd(combined)\n",
      "\n",
      "#Recover combined from SVD\n",
      "#s is sigma embedded in an m x n matrix.\n",
      "s = numpy.zeros((U.shape[0],2),dtype=float)\n",
      "s[:len(sigma),:len(sigma)] = numpy.diag(sigma)\n",
      "recovered = numpy.dot(U,numpy.dot(s,V[:,1]))\n",
      "recovered = recovered * 255.\n",
      "#print recovered.shape\n",
      "#print recovered\n",
      "#print V\n",
      "\n",
      "#Reconvert flattened images\n",
      "imgSquareMatReshaped = numpy.reshape(recovered, (size, size), 'F')\n",
      "#imgCircleMatReshaped = numpy.reshape(recovered[:,1], (size, size), 'F')\n",
      "#instead of using this method, use dot(s,V[:,1]) or dot(s,V[:,0])\n",
      "\n",
      "#plt.imshow(imgCirceMatReshaped, cmap='gray')\n",
      "plt.imshow(imgSquareMatReshaped, cmap='gray')\n",
      "plt.show()\n",
      "\n",
      "\n"
     ],
     "language": "python",
     "metadata": {},
     "outputs": [],
     "prompt_number": 2
    },
    {
     "cell_type": "code",
     "collapsed": false,
     "input": [],
     "language": "python",
     "metadata": {},
     "outputs": []
    }
   ],
   "metadata": {}
  }
 ]
}