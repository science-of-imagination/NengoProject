{
 "metadata": {
  "name": "",
  "signature": "sha256:9d731992eba65e3fd06dd154c761e71478c439bcfbf6b24e885857e3312e40f4"
 },
 "nbformat": 3,
 "nbformat_minor": 0,
 "worksheets": [
  {
   "cells": [
    {
     "cell_type": "heading",
     "level": 1,
     "metadata": {},
     "source": [
      "Notes on the Images"
     ]
    },
    {
     "cell_type": "heading",
     "level": 2,
     "metadata": {},
     "source": [
      "SVD one image and then reload it\n"
     ]
    },
    {
     "cell_type": "markdown",
     "metadata": {},
     "source": [
      "Load the image into a matrix\n"
     ]
    },
    {
     "cell_type": "code",
     "collapsed": false,
     "input": [
      "import numpy\n",
      "import matplotlib.pyplot as plt\n",
      "import scipy\n",
      "import Image\n",
      "#from scipy import misc\n",
      "#from PIL import Image\n",
      "\n",
      "img = Image.open('Pictures/circle.png')\n",
      "img = img.convert('LA')\n",
      "imgArray = numpy.array(list(img.getdata(band=0)),float)\n",
      "imgArray.shape = (img.size[1],img.size[0])\n",
      "\n",
      "imgmat = numpy.matrix(imgArray)\n",
      "\n",
      "plt.imshow(imgmat, cmap='gray')\n",
      "plt.show()"
     ],
     "language": "python",
     "metadata": {},
     "outputs": [],
     "prompt_number": 1
    },
    {
     "cell_type": "markdown",
     "metadata": {},
     "source": [
      "Now we can SVD it and load it again"
     ]
    },
    {
     "cell_type": "code",
     "collapsed": false,
     "input": [
      "U, sigma, V = numpy.linalg.svd(imgmat)\n",
      "\n",
      "s = numpy.zeros(U.shape,dtype=float)\n",
      "s[:len(sigma),:len(sigma)] = numpy.diag(sigma)\n",
      "X = numpy.dot(U,numpy.dot(s,V))\n",
      "\n",
      "plt.imshow(X,cmap='gray')\n",
      "plt.show()"
     ],
     "language": "python",
     "metadata": {},
     "outputs": []
    },
    {
     "cell_type": "heading",
     "level": 2,
     "metadata": {},
     "source": [
      "SVD two images and recover them"
     ]
    },
    {
     "cell_type": "markdown",
     "metadata": {},
     "source": [
      "Here we make matrices out of 2 images\n"
     ]
    },
    {
     "cell_type": "code",
     "collapsed": false,
     "input": [
      "import numpy\n",
      "import matplotlib.pyplot as plt\n",
      "try:\n",
      "    from PIL import Image\n",
      "except ImageError:\n",
      "    import Image\n",
      "\n",
      "\n",
      "#size determines standardized size of images used, SVD needs image dimensions to match.\n",
      "#Also, we ran into MemoryError when size > 80 (images are size x size), need to find fix.\n",
      "size = 100\n",
      "\n",
      "#Initialize images\n",
      "imgSquare = Image.open('Pictures/square.png')\n",
      "imgCircle = Image.open('Pictures/circle.png')\n",
      "\n",
      "#Resize images\n",
      "imgSquare = imgSquare.convert('LA').resize((size,size), Image.NEAREST)\n",
      "imgCircle = imgCircle.convert('LA').resize((size,size), Image.NEAREST)\n",
      "\n",
      "#Matrixify images\n",
      "imgSquareArray = numpy.array(list(imgSquare.getdata(band=0)),float)\n",
      "imgSquareArray.shape = (imgSquare.size[1],imgSquare.size[0])\n",
      "imgSquareMat = numpy.matrix(imgSquareArray)\n",
      "\n",
      "imgCircleArray = numpy.array(list(imgCircle.getdata(band=0)),float)\n",
      "imgCircleArray.shape = (imgCircle.size[1],imgCircle.size[0])\n",
      "imgCircleMat = numpy.matrix(imgCircleArray)"
     ],
     "language": "python",
     "metadata": {},
     "outputs": [],
     "prompt_number": 9
    },
    {
     "cell_type": "markdown",
     "metadata": {},
     "source": [
      "One way to do SVD on images is to flatten the images and run SVD as usual."
     ]
    },
    {
     "cell_type": "code",
     "collapsed": false,
     "input": [
      "#Flatten images\n",
      "#Images are now m = size x size sized vectors\n",
      "flattenedSquare = numpy.array(imgSquareMat.flatten('F'))[0]\n",
      "flattenedCircle = numpy.array(imgCircleMat.flatten('F'))[0]\n",
      "\n",
      "#Combine image vectors into a matrix\n",
      "#We take the transpose, so the matrix is m x n\n",
      "#Here n is the number of images. In this case n = 2\n",
      "combined = numpy.array([flattenedSquare, flattenedCircle]).T\n",
      "\n",
      "#SVD images\n",
      "#Expect U: m x m; sigma: n x 1; V: n x n\n",
      "#Actually sigma should be m x n, but numpy.linalg.svd returns it as n x 1\n",
      "#This is because sigma is a diagonalized matrix and\n",
      "#because combined will have at most n singular values.\n",
      "U, sigma, V = numpy.linalg.svd(combined)"
     ],
     "language": "python",
     "metadata": {},
     "outputs": [],
     "prompt_number": 11
    },
    {
     "cell_type": "markdown",
     "metadata": {},
     "source": [
      "Now we can recover the images from their SVD, but we have to unflatten them."
     ]
    },
    {
     "cell_type": "code",
     "collapsed": false,
     "input": [
      "\n",
      "\n",
      "#Recover combined from SVD\n",
      "#s is sigma embedded in an m x n matrix.\n",
      "s = numpy.zeros((U.shape[0],2),dtype=float)\n",
      "s[:len(sigma),:len(sigma)] = numpy.diag(sigma)\n",
      "recovered = numpy.dot(U,numpy.dot(s,V[:,0]))\n",
      "\n",
      "print recovered.shape\n",
      "print recovered\n",
      "print V\n",
      "\n",
      "#Reconvert flattened images\n",
      "imgSquareMatReshaped = numpy.reshape(recovered, (size, size), 'F')\n",
      "#imgCircleMatReshaped = numpy.reshape(recovered[:,1], (size, size), 'F')\n",
      "#instead of using this method, use dot(s,V[:,1]) or dot(s,V[:,0])\n",
      "\n",
      "#plt.imshow(imgCirceMatReshaped, cmap='gray')\n",
      "plt.imshow(imgSquareMatReshaped, cmap='gray')\n",
      "plt.show()"
     ],
     "language": "python",
     "metadata": {},
     "outputs": [
      {
       "output_type": "stream",
       "stream": "stdout",
       "text": [
        "(10000L,)\n",
        "[ 255.  255.  255. ...,  255.  255.  255.]\n",
        "[[-0.71388164 -0.70026638]\n",
        " [ 0.70026638 -0.71388164]]\n"
       ]
      }
     ],
     "prompt_number": 13
    },
    {
     "cell_type": "markdown",
     "metadata": {},
     "source": [
      "Can we SVD images without flattening them? "
     ]
    },
    {
     "cell_type": "code",
     "collapsed": false,
     "input": [
      "combined = numpy.array([imgSquareMat, imgCircleMat])\n",
      "U, sigma, V = numpy.linalg.svd(combined)\n",
      "\n",
      "print U.shape\n",
      "print sigma.shape\n",
      "print V.shape"
     ],
     "language": "python",
     "metadata": {},
     "outputs": []
    },
    {
     "cell_type": "markdown",
     "metadata": {},
     "source": [
      "We don't know how to do tensor product, come back to this later."
     ]
    },
    {
     "cell_type": "code",
     "collapsed": false,
     "input": [
      "s = numpy.zeros(U.shape,dtype=float)\n",
      "s[:len(sigma),:len(sigma),:len(sigma)] = numpy.diag(sigma)\n",
      "\n",
      "print s.shape\n",
      "print V.shape\n",
      "step = numpy.tensordot(s, V, axes=[2,1])\n",
      "print step.shape\n",
      "X = numpy.tensordot(U,numpy.tensordot(s,V))\n",
      "\n",
      "plt.imshow(X,cmap='gray')\n",
      "plt.show()"
     ],
     "language": "python",
     "metadata": {},
     "outputs": [
      {
       "output_type": "stream",
       "stream": "stdout",
       "text": [
        "(2, 200, 200)\n",
        "(2, 200, 200)\n",
        "(2, 200, 2, 200)\n"
       ]
      },
      {
       "ename": "ValueError",
       "evalue": "shape-mismatch for sum",
       "output_type": "pyerr",
       "traceback": [
        "\u001b[1;31m---------------------------------------------------------------------------\u001b[0m\n\u001b[1;31mValueError\u001b[0m                                Traceback (most recent call last)",
        "\u001b[1;32m<ipython-input-29-95812c76882b>\u001b[0m in \u001b[0;36m<module>\u001b[1;34m()\u001b[0m\n\u001b[0;32m      6\u001b[0m \u001b[0mstep\u001b[0m \u001b[1;33m=\u001b[0m \u001b[0mnumpy\u001b[0m\u001b[1;33m.\u001b[0m\u001b[0mtensordot\u001b[0m\u001b[1;33m(\u001b[0m\u001b[0ms\u001b[0m\u001b[1;33m,\u001b[0m \u001b[0mV\u001b[0m\u001b[1;33m,\u001b[0m \u001b[0maxes\u001b[0m\u001b[1;33m=\u001b[0m\u001b[1;33m[\u001b[0m\u001b[1;36m2\u001b[0m\u001b[1;33m,\u001b[0m\u001b[1;36m1\u001b[0m\u001b[1;33m]\u001b[0m\u001b[1;33m)\u001b[0m\u001b[1;33m\u001b[0m\u001b[0m\n\u001b[0;32m      7\u001b[0m \u001b[1;32mprint\u001b[0m \u001b[0mstep\u001b[0m\u001b[1;33m.\u001b[0m\u001b[0mshape\u001b[0m\u001b[1;33m\u001b[0m\u001b[0m\n\u001b[1;32m----> 8\u001b[1;33m \u001b[0mX\u001b[0m \u001b[1;33m=\u001b[0m \u001b[0mnumpy\u001b[0m\u001b[1;33m.\u001b[0m\u001b[0mtensordot\u001b[0m\u001b[1;33m(\u001b[0m\u001b[0mU\u001b[0m\u001b[1;33m,\u001b[0m\u001b[0mnumpy\u001b[0m\u001b[1;33m.\u001b[0m\u001b[0mtensordot\u001b[0m\u001b[1;33m(\u001b[0m\u001b[0ms\u001b[0m\u001b[1;33m,\u001b[0m\u001b[0mV\u001b[0m\u001b[1;33m)\u001b[0m\u001b[1;33m)\u001b[0m\u001b[1;33m\u001b[0m\u001b[0m\n\u001b[0m\u001b[0;32m      9\u001b[0m \u001b[1;33m\u001b[0m\u001b[0m\n\u001b[0;32m     10\u001b[0m \u001b[0mplt\u001b[0m\u001b[1;33m.\u001b[0m\u001b[0mimshow\u001b[0m\u001b[1;33m(\u001b[0m\u001b[0mX\u001b[0m\u001b[1;33m,\u001b[0m\u001b[0mcmap\u001b[0m\u001b[1;33m=\u001b[0m\u001b[1;34m'gray'\u001b[0m\u001b[1;33m)\u001b[0m\u001b[1;33m\u001b[0m\u001b[0m\n",
        "\u001b[1;32mC:\\Python27\\lib\\site-packages\\numpy\\core\\numeric.pyc\u001b[0m in \u001b[0;36mtensordot\u001b[1;34m(a, b, axes)\u001b[0m\n\u001b[0;32m   1204\u001b[0m                 \u001b[0maxes_b\u001b[0m\u001b[1;33m[\u001b[0m\u001b[0mk\u001b[0m\u001b[1;33m]\u001b[0m \u001b[1;33m+=\u001b[0m \u001b[0mndb\u001b[0m\u001b[1;33m\u001b[0m\u001b[0m\n\u001b[0;32m   1205\u001b[0m     \u001b[1;32mif\u001b[0m \u001b[1;32mnot\u001b[0m \u001b[0mequal\u001b[0m\u001b[1;33m:\u001b[0m\u001b[1;33m\u001b[0m\u001b[0m\n\u001b[1;32m-> 1206\u001b[1;33m         \u001b[1;32mraise\u001b[0m \u001b[0mValueError\u001b[0m\u001b[1;33m(\u001b[0m\u001b[1;34m\"shape-mismatch for sum\"\u001b[0m\u001b[1;33m)\u001b[0m\u001b[1;33m\u001b[0m\u001b[0m\n\u001b[0m\u001b[0;32m   1207\u001b[0m \u001b[1;33m\u001b[0m\u001b[0m\n\u001b[0;32m   1208\u001b[0m     \u001b[1;31m# Move the axes to sum over to the end of \"a\"\u001b[0m\u001b[1;33m\u001b[0m\u001b[1;33m\u001b[0m\u001b[0m\n",
        "\u001b[1;31mValueError\u001b[0m: shape-mismatch for sum"
       ]
      }
     ],
     "prompt_number": 29
    }
   ],
   "metadata": {}
  }
 ]
}