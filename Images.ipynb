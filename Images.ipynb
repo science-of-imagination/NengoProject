{
 "metadata": {
  "name": ""
 },
 "nbformat": 3,
 "nbformat_minor": 0,
 "worksheets": [
  {
   "cells": [
    {
     "cell_type": "heading",
     "level": 1,
     "metadata": {},
     "source": [
      "Notes on the Images"
     ]
    },
    {
     "cell_type": "heading",
     "level": 2,
     "metadata": {},
     "source": [
      "SVD one image and then reload it\n"
     ]
    },
    {
     "cell_type": "markdown",
     "metadata": {},
     "source": [
      "Load the image into a matrix\n"
     ]
    },
    {
     "cell_type": "code",
     "collapsed": false,
     "input": [
      "import numpy\n",
      "import matplotlib.pyplot as plt\n",
      "from scipy import misc\n",
      "from PIL import Image\n",
      "\n",
      "img = Image.open('circle.png')\n",
      "img = img.convert('LA')\n",
      "imgArray = numpy.array(list(img.getdata(band=0)),float)\n",
      "imgArray.shape = (img.size[1],img.size[0])\n",
      "\n",
      "imgmat = numpy.matrix(imgArray)\n"
     ],
     "language": "python",
     "metadata": {},
     "outputs": [],
     "prompt_number": 48
    },
    {
     "cell_type": "markdown",
     "metadata": {},
     "source": [
      "Now we can SVD it and load it again"
     ]
    },
    {
     "cell_type": "code",
     "collapsed": false,
     "input": [
      "U, sigma, V = numpy.linalg.svd(imgmat)\n",
      "\n",
      "s = numpy.zeros(U.shape,dtype=float)\n",
      "s[:len(sigma),:len(sigma)] = numpy.diag(sigma)\n",
      "X = numpy.dot(U,numpy.dot(s,V))\n",
      "\n",
      "plt.imshow(X,cmap='gray')\n",
      "plt.show()"
     ],
     "language": "python",
     "metadata": {},
     "outputs": [],
     "prompt_number": 53
    },
    {
     "cell_type": "markdown",
     "metadata": {},
     "source": [
      "Here we make matrices out of 2 images\n"
     ]
    },
    {
     "cell_type": "code",
     "collapsed": false,
     "input": [
      "import numpy\n",
      "import matplotlib.pyplot as plt\n",
      "from scipy import misc\n",
      "from PIL import Image\n",
      "\n",
      "imgSquare = Image.open('square.png')\n",
      "imgCircle = Image.open('circle.png')\n",
      "\n",
      "imgSquare = imgSquare.convert('LA')\n",
      "imgCircle = imgCircle.convert('LA')\n",
      "\n",
      "imgSquareArray = numpy.array(list(imgSquare.getdata(band=0)),float)\n",
      "imgSquareArray.shape = (imgSquare.size[1],imgSquare.size[0])\n",
      "imgSquareMat = numpy.matrix(imgSquareArray)\n",
      "\n",
      "imgCircleArray = numpy.array(list(imgSquare.getdata(band=0)),float)\n",
      "imgCircleArray.shape = (imgCircle.size[1],imgCircle.size[0])\n",
      "imgCircleMat = numpy.matrix(imgCircleArray)\n",
      "\n",
      "\n"
     ],
     "language": "python",
     "metadata": {},
     "outputs": []
    },
    {
     "cell_type": "markdown",
     "metadata": {},
     "source": [
      "We can combine the two matrices\n",
      "and do SVD on them"
     ]
    },
    {
     "cell_type": "code",
     "collapsed": false,
     "input": [
      "combined = numpy.array([imgSquareMat, imgCircleMat])\n",
      "U, sigma, V = numpy.linalg.svd(combined)\n",
      "\n",
      "print U.shape\n"
     ],
     "language": "python",
     "metadata": {},
     "outputs": [
      {
       "output_type": "stream",
       "stream": "stdout",
       "text": [
        "(2, 200, 200)\n"
       ]
      }
     ],
     "prompt_number": 31
    },
    {
     "cell_type": "code",
     "collapsed": false,
     "input": [],
     "language": "python",
     "metadata": {},
     "outputs": []
    }
   ],
   "metadata": {}
  }
 ]
}