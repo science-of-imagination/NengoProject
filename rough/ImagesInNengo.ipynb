{
 "metadata": {
  "name": "",
  "signature": "sha256:999ea66b17adca26ae4e10bf9889eca5a34f4bf1a56ab851e342acab1cc7efdb"
 },
 "nbformat": 3,
 "nbformat_minor": 0,
 "worksheets": [
  {
   "cells": [
    {
     "cell_type": "heading",
     "level": 1,
     "metadata": {},
     "source": [
      "Recording Images In a Nengo Network"
     ]
    },
    {
     "cell_type": "markdown",
     "metadata": {},
     "source": [
      "We want to build a simple memory network that will take a compressed vector representation of an image and populate a 'visual buffer' with a given image. But how should we represent the image? Normally, an image is an m x n array of pixels with aspect ratio m : n. We can't store m x n pixels for k images, too many and wasteful. Want to compress. Idea: use SVD on images. \n",
      "\n",
      "Problem: digital grayscale images are functions $$Img : \\{1,...,m\\}\\times\\{1,...,n\\} \\rightarrow \\{1,...,255\\}.$$ We cannot SVD an array of matrices, so we flatten them and SVD the resulting array of $1\\times mn$ vectors.\n",
      "\n",
      "What does SVD get us? It gets us an orthogonal basis with which to express each image in the image set. For $Imgs = [img_1,...,img_k]$, where $img_i$ are column vectors representing each image, SVD gives us\n",
      "\n",
      "\\begin{align}Imgs = U \\Sigma V^*\\end{align}\n",
      "\n",
      "Where $U \\Sigma = [\\sigma_1 u_1,...,\\sigma_l u_l]$ are orthogonal basis vectors and $V^* = [v_1,...,v_k]$ are vector representations of $[img_1,...,img_k]$ under the basis $U\\Sigma$. The great thing this lets us do is truncate $U$ (and hence $V$) to get some lossy compression, so the network can represent $Imgs$. There is a normalization issue, but I will get to that.\n",
      "\n"
     ]
    },
    {
     "cell_type": "code",
     "collapsed": false,
     "input": [
      "import cPickle \n",
      "import gzip\n",
      "import numpy\n",
      "import matplotlib.pyplot as plt\n",
      "try:\n",
      "    from PIL import Image\n",
      "except ImportError:\n",
      "    import Image\n",
      "import scipy.sparse\n",
      "from sparsesvd import sparsesvd\n",
      "\n",
      "size = 28\n",
      "\n",
      "# Load the dataset\n",
      "f = gzip.open('Pictures/mnist.pkl.gz', 'rb')\n",
      "train_set, valid_set, test_set = cPickle.load(f)\n",
      "f.close()\n",
      "\n",
      "combined = []\n",
      "combined = numpy.array(train_set[0]).T\n",
      "combined_csc = scipy.sparse.csc_matrix(combined)\n",
      "ut, s, vt = sparsesvd(combined_csc,50)\n",
      "print ut\n",
      "\n",
      "recovered = numpy.dot(ut.T, numpy.dot(numpy.diag(s),vt[:,4]))\n",
      "\n",
      "imgMatReshaped = numpy.reshape(ut[0,:], (size, size), 'F')        \n",
      "plt.imshow(imgMatReshaped.T, cmap='gray')\n",
      "plt.show()    "
     ],
     "language": "python",
     "metadata": {},
     "outputs": [
      {
       "output_type": "stream",
       "stream": "stdout",
       "text": [
        "[[ 0.  0.  0. ...,  0.  0.  0.]\n",
        " [ 0.  0.  0. ...,  0.  0.  0.]\n",
        " [ 0.  0.  0. ...,  0.  0.  0.]\n",
        " ..., \n",
        " [ 0.  0.  0. ...,  0.  0.  0.]\n",
        " [ 0.  0.  0. ...,  0.  0.  0.]\n",
        " [ 0.  0.  0. ...,  0.  0.  0.]]\n"
       ]
      }
     ],
     "prompt_number": 2
    },
    {
     "cell_type": "markdown",
     "metadata": {},
     "source": [
      "<img src=\"Figures/SVD9-50svs.svg\">"
     ]
    },
    {
     "cell_type": "markdown",
     "metadata": {},
     "source": [
      "Above is the result for SVD with 50 basis vectors. Looks passable. Need to figure out how to carry out transformations of images in encoded form. This has a convenient solution due to the properties of SVD.\n",
      "\n",
      "SVD decomposes a matrix $M$ populated with values from a field $K$ (in our case $K=\\mathbb{R}$) such that $M = U \\Sigma V^*$ where $U$, $V$ are unitary matrices. $U$ unitary means that $UU^* = U^*U = I$. Since $U$ has real entries, $U^* = U^T$.\n",
      "\n",
      "We can compute the SVD representation $v_A$ of an image $img_A$, given $img_A = A\\ img$, from the SVD representation $v$ of image $img$. \n",
      "\\begin{align}\n",
      "img_A &= A\\ img\\\\\n",
      "U\\Sigma v_A &= AU\\Sigma v\\\\\n",
      "v_A &= \\Sigma ^{-1}U^TAU\\Sigma v\n",
      "\\end{align}\n",
      "\n",
      "Thus to approximate a transformation $A$ between images, we need to find $$T=\\Sigma ^{-1}U^TAU\\Sigma$$."
     ]
    },
    {
     "cell_type": "code",
     "collapsed": false,
     "input": [],
     "language": "python",
     "metadata": {},
     "outputs": []
    }
   ],
   "metadata": {}
  }
 ]
}