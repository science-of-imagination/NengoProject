{
 "metadata": {
  "name": ""
 },
 "nbformat": 3,
 "nbformat_minor": 0,
 "worksheets": [
  {
   "cells": [
    {
     "cell_type": "code",
     "collapsed": false,
     "input": [
      "import numpy as np\n",
      "def patch(canvas_size, radius, x_offset, y_offset, sign):\n",
      "    x = np.linspace(-1, 1, canvas_size)\n",
      "    y = np.linspace(-1, 1, canvas_size)\n",
      "    X, Y = np.meshgrid(x, y)\n",
      "    X = X - x_offset\n",
      "    Y = Y + y_offset\n",
      "\n",
      "    cosTheta = np.cos(0)\n",
      "    sinTheta = np.sin(0)\n",
      "    xTheta = X * cosTheta  + Y * sinTheta\n",
      "    yTheta = -X * sinTheta + Y * cosTheta\n",
      "    e = np.exp( -(xTheta**2 + yTheta**2) / (2 *radius**2) )    \n",
      "    return sign*e\n",
      "\n",
      "x=patch(28,.053472,0.5,0,-1)\n",
      "import matplotlib.pyplot as plt\n",
      "plt.imshow(x, cmap='gray')\n",
      "plt.show()"
     ],
     "language": "python",
     "metadata": {},
     "outputs": [],
     "prompt_number": 18
    },
    {
     "cell_type": "code",
     "collapsed": false,
     "input": [
      "plt.show()"
     ],
     "language": "python",
     "metadata": {},
     "outputs": [],
     "prompt_number": 3
    },
    {
     "cell_type": "code",
     "collapsed": false,
     "input": [],
     "language": "python",
     "metadata": {},
     "outputs": []
    }
   ],
   "metadata": {}
  }
 ]
}